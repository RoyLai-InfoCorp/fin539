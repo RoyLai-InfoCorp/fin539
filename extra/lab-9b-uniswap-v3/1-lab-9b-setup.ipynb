{
 "cells": [
  {
   "attachments": {},
   "cell_type": "markdown",
   "metadata": {},
   "source": [
    "# Lab 9 - DEFI(Uniswap V3)"
   ]
  },
  {
   "attachments": {},
   "cell_type": "markdown",
   "metadata": {},
   "source": [
    "## Reference:\n",
    "\n",
    "- https://docs.uniswap.org/contracts/v3/guides/local-environment\n",
    "- https://docs.uniswap.org/sdk/v3/guides/background\n"
   ]
  },
  {
   "attachments": {},
   "cell_type": "markdown",
   "metadata": {},
   "source": [
    "## 1. Setup\n",
    "\n",
    "### Step 1. Init NPM project"
   ]
  },
  {
   "cell_type": "code",
   "execution_count": null,
   "metadata": {
    "vscode": {
     "languageId": "shellscript"
    }
   },
   "outputs": [],
   "source": [
    "cd ~/github/suss/fin579/lab-9b\n",
    "mkdir test\n",
    "mkdir contracts\n",
    "mkdir build"
   ]
  },
  {
   "cell_type": "code",
   "execution_count": null,
   "metadata": {
    "vscode": {
     "languageId": "shellscript"
    }
   },
   "outputs": [],
   "source": [
    "npm init -y"
   ]
  },
  {
   "attachments": {},
   "cell_type": "markdown",
   "metadata": {},
   "source": [
    "### Step 2. Install Hardhat Packages"
   ]
  },
  {
   "cell_type": "code",
   "execution_count": null,
   "metadata": {
    "vscode": {
     "languageId": "shellscript"
    }
   },
   "outputs": [],
   "source": [
    "npm i -D hardhat@2.15.0 @nomiclabs/hardhat-ethers@2.2.3 @nomiclabs/hardhat-etherscan@3.1.7 hardhat-ignore-warnings chai@4.3.7\n",
    "npm i dotenv@16.1.4 ethers@5.7.2"
   ]
  },
  {
   "attachments": {},
   "cell_type": "markdown",
   "metadata": {},
   "source": [
    "### Step 3. Install OpenZeppelin libraries"
   ]
  },
  {
   "cell_type": "code",
   "execution_count": null,
   "metadata": {
    "vscode": {
     "languageId": "shellscript"
    }
   },
   "outputs": [],
   "source": [
    "npm i @openzeppelin/contracts@3.4.2"
   ]
  },
  {
   "attachments": {},
   "cell_type": "markdown",
   "metadata": {
    "vscode": {
     "languageId": "shellscript"
    }
   },
   "source": [
    "### Step 4. Create Tutorial ERC20 Token Contract\n",
    "\n",
    "Create the following `TutorialERC20.sol` contract in `contracts` dir.\n",
    "\n",
    "```js\n",
    "pragma solidity ^0.7.6;\n",
    "\n",
    "import \"@openzeppelin/contracts/token/ERC20/ERC20.sol\";\n",
    "import \"@openzeppelin/contracts/access/Ownable.sol\";\n",
    "\n",
    "contract TutorialERC20 is ERC20, Ownable {\n",
    "    constructor(\n",
    "        string memory name_,\n",
    "        string memory symbol_,\n",
    "        address owner_\n",
    "    ) ERC20(name_, symbol_) {}\n",
    "\n",
    "    function mint(address account, uint256 amount) public onlyOwner {\n",
    "        _mint(account, amount);\n",
    "    }\n",
    "}\n",
    "```"
   ]
  },
  {
   "attachments": {},
   "cell_type": "markdown",
   "metadata": {},
   "source": [
    "### Step 5. Create hardhat.config.js and .env\n",
    "\n",
    "Create the following `hardhat.config.js` and copy the `.env` from previous lab."
   ]
  },
  {
   "attachments": {},
   "cell_type": "markdown",
   "metadata": {},
   "source": [
    "```js\n",
    "require(\"@nomiclabs/hardhat-ethers\");\n",
    "require(\"@nomiclabs/hardhat-etherscan\");\n",
    "require(\"dotenv\").config();\n",
    "require(\"hardhat-ignore-warnings\");\n",
    "module.exports = {\n",
    "    solidity: {\n",
    "        compilers: [\n",
    "            {\n",
    "                version: \"0.7.6\",\n",
    "                settings: {\n",
    "                    optimizer: {\n",
    "                        enabled: true,\n",
    "                        runs: 200,\n",
    "                    },\n",
    "                },\n",
    "            },\n",
    "        ],\n",
    "    },\n",
    "    networks: {\n",
    "        goerli: {\n",
    "            chainId: 5,\n",
    "            url: process.env.FIN579_ALCHEMY_URLAPIKEY,\n",
    "            accounts: {\n",
    "                mnemonic: process.env.FIN579_MNEMONIC,\n",
    "            },\n",
    "        },\n",
    "        hardhat: {\n",
    "            accounts: {\n",
    "                mnemonic: process.env.FIN579_MNEMONIC,\n",
    "            },\n",
    "        },\n",
    "    },\n",
    "    etherscan: {\n",
    "        apiKey: process.env.FIN579_ETHERSCAN,\n",
    "    },\n",
    "    warnings: \"off\",\n",
    "};\n",
    "```"
   ]
  },
  {
   "cell_type": "code",
   "execution_count": null,
   "metadata": {
    "vscode": {
     "languageId": "shellscript"
    }
   },
   "outputs": [],
   "source": [
    "cp ../lab-7/.env ."
   ]
  },
  {
   "attachments": {},
   "cell_type": "markdown",
   "metadata": {},
   "source": [
    "### Step 6. Compile\n",
    "\n",
    "Compile the tutorial token contract"
   ]
  },
  {
   "cell_type": "code",
   "execution_count": null,
   "metadata": {
    "vscode": {
     "languageId": "shellscript"
    }
   },
   "outputs": [],
   "source": [
    "hh compile"
   ]
  },
  {
   "attachments": {},
   "cell_type": "markdown",
   "metadata": {},
   "source": [
    "### Step 7. Install Uniswap Packages\n",
    "\n",
    "We will not be compiling Uniswap contracts directly from the source code.\n",
    "Instead, we will deploy the same ABI and bytecode which was deployed to mainnet onto local network.\n",
    "To do that, we need to install the following packages which contains the bytecodes."
   ]
  },
  {
   "cell_type": "code",
   "execution_count": null,
   "metadata": {
    "vscode": {
     "languageId": "shellscript"
    }
   },
   "outputs": [],
   "source": [
    "npm i -D @uniswap/v3-core @uniswap/v3-periphery\n",
    "npm i @uniswap/sdk-core @uniswap/v3-sdk"
   ]
  },
  {
   "cell_type": "code",
   "execution_count": null,
   "metadata": {
    "vscode": {
     "languageId": "shellscript"
    }
   },
   "outputs": [],
   "source": [
    "mkdir build\n",
    "cp -rp node_modules/@uniswap/v3-core/artifacts/contracts/UniswapV3Factory.sol/UniswapV3Factory.json build\n",
    "cp -rp node_modules/@uniswap/v3-core/artifacts/contracts/UniswapV3Pool.sol/UniswapV3Pool.json build\n",
    "cp -rp node_modules/@uniswap/v3-periphery/artifacts/contracts/NonfungiblePositionManager.sol/NonfungiblePositionManager.json build\n",
    "cp -rp node_modules/@uniswap/v3-periphery/artifacts/contracts/NonfungibleTokenPositionDescriptor.sol/NonfungibleTokenPositionDescriptor.json build\n",
    "cp -rp node_modules/@uniswap/v3-periphery/artifacts/contracts/libraries/NFTDescriptor.sol/NFTDescriptor.json build\n"
   ]
  },
  {
   "attachments": {},
   "cell_type": "markdown",
   "metadata": {},
   "source": [
    "### Step 8: Download WETH\n",
    "\n",
    "WETH stands for Wrapped ETH which is Uniswap's ERC20 representation of ETH. We will download the abi and bytecode from uniswap repository: https://github.com/Uniswap/v3-periphery/blob/main/test/contracts/WETH9.json and save it into `build`."
   ]
  },
  {
   "cell_type": "code",
   "execution_count": null,
   "metadata": {
    "vscode": {
     "languageId": "shellscript"
    }
   },
   "outputs": [],
   "source": [
    "wget https://raw.githubusercontent.com/Uniswap/v3-periphery/main/test/contracts/WETH9.json -O build/WETH9.json"
   ]
  },
  {
   "attachments": {},
   "cell_type": "markdown",
   "metadata": {},
   "source": [
    "The completed project structure should look like the following:\n",
    "\n",
    "```\n",
    "/lab-9b\n",
    "    /build\n",
    "        /NFTDescriptor.json\n",
    "        /NonfungiblePositionManager.json\n",
    "        /NonfungibleTokenPositionDescriptor.json\n",
    "        /TutorialERC20.json\n",
    "        /UniswapV3Factory.json\n",
    "        /UniswapV3Pool.json\n",
    "        /WETH9.json\n",
    "    /contracts\n",
    "    /test\n",
    "    .env\n",
    "    hardhat.config.js\n",
    "    package.json\n",
    "```"
   ]
  },
  {
   "attachments": {},
   "cell_type": "markdown",
   "metadata": {},
   "source": []
  }
 ],
 "metadata": {
  "kernelspec": {
   "display_name": "Bash",
   "language": "bash",
   "name": "bash"
  },
  "language_info": {
   "codemirror_mode": "shell",
   "file_extension": ".sh",
   "mimetype": "text/x-sh",
   "name": "bash"
  },
  "orig_nbformat": 4
 },
 "nbformat": 4,
 "nbformat_minor": 2
}
