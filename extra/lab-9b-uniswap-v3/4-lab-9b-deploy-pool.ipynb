{
 "cells": [
  {
   "attachments": {},
   "cell_type": "markdown",
   "metadata": {},
   "source": [
    "# Lab 9 - DEFI(Uniswap V3)"
   ]
  },
  {
   "attachments": {},
   "cell_type": "markdown",
   "metadata": {},
   "source": [
    "## 4. Deploy Pool"
   ]
  },
  {
   "cell_type": "code",
   "execution_count": null,
   "metadata": {},
   "outputs": [],
   "source": [
    "artifacts = {\n",
    "    WETH9: require(\"./build/WETH9.json\"),\n",
    "    UniswapV3Factory: require(\"./build/UniswapV3Factory.json\"),\n",
    "    UniswapV3Pool: require(\"./build/UniswapV3Pool.json\"),\n",
    "    NFTDescriptor: require(\"./build/NFTDescriptor.json\"),\n",
    "    NonfungibleTokenPositionDescriptor: require(\"./build/NonfungibleTokenPositionDescriptor.json\"),\n",
    "    NonfungiblePositionManager: require(\"./build/NonfungiblePositionManager.json\"),\n",
    "    ERC20: require(\"./artifacts/contracts/TutorialERC20.sol/TutorialERC20.json\"),\n",
    "};"
   ]
  },
  {
   "cell_type": "code",
   "execution_count": null,
   "metadata": {},
   "outputs": [],
   "source": [
    "contracts = {\n",
    "  WETH: '0x78E6935fD0D9b57B1Bc20204BA769bCEd249012E',\n",
    "  UNISWAPV3_FACTORY: '0xfF2868E36dEfdD0180DFaFd4c234B9c2588a1887',\n",
    "  NONFUNGIBLE_POSITION_MANAGER: '0xFB04DA8DCc30fbD00FD953ADE7414953Ccc96145',\n",
    "  TOKEN_0: '0x3cE05DC47cCBd7c62E6dC6f1d6a08493B18B7992',\n",
    "  TOKEN_1: '0xff64fbE6824cC5CA450FD4Ca22c249a6d375028f'\n",
    "};\n"
   ]
  },
  {
   "cell_type": "code",
   "execution_count": null,
   "metadata": {},
   "outputs": [],
   "source": [
    "new Promise(async (res, rej) => {\n",
    "    const { ethers, BigNumber, Contract } = require(\"ethers\");\n",
    "    const provider = new ethers.providers.JsonRpcProvider(\"http://localhost:8545\");\n",
    "    const account = provider.getSigner();\n",
    "\n",
    "    reserve0 = ethers.utils.parseEther(\"1000\");\n",
    "    reserve1 = ethers.utils.parseEther(\"1000\");\n",
    "\n",
    "    // Approve Withdrawal by PositionManager\n",
    "    const tokenA = new Contract(contracts.TOKEN_0,artifacts.ERC20.abi)\n",
    "    await tokenA\n",
    "        .connect(account)\n",
    "        .approve(contracts.NONFUNGIBLE_POSITION_MANAGER,reserve0);\n",
    "    const tokenB = new Contract(contracts.TOKEN_1, artifacts.ERC20.abi);\n",
    "    await tokenB\n",
    "        .connect(account)\n",
    "        .approve(contracts.NONFUNGIBLE_POSITION_MANAGER, reserve1);\n",
    "\n",
    "    // Create price function\n",
    "    const bn = require(\"bignumber.js\");\n",
    "    bn.config({ EXPONENTIAL_AT: 999999, DECIMAL_PLACES: 40 });\n",
    "    function encodePriceSqrt(reserve1, reserve0) {\n",
    "        return BigNumber.from(\n",
    "            new bn(reserve1.toString())\n",
    "                .div(reserve0.toString())\n",
    "                .sqrt()\n",
    "                .multipliedBy(new bn(2).pow(96))\n",
    "                .integerValue(3)\n",
    "                .toString()\n",
    "        );\n",
    "    }\n",
    "\n",
    "    const factory = new Contract(\n",
    "        contracts.UNISWAPV3_FACTORY,\n",
    "        artifacts.UniswapV3Factory.abi,\n",
    "        provider\n",
    "    );\n",
    "    const nonfungiblePositionManager = new Contract(\n",
    "        contracts.NONFUNGIBLE_POSITION_MANAGER,\n",
    "        artifacts.NonfungiblePositionManager.abi,\n",
    "        provider\n",
    "    );\n",
    "\n",
    "    // Deploy Pool\n",
    "    tradingfee = 500;\n",
    "    const price = encodePriceSqrt(1, 1);\n",
    "    const response =\n",
    "    await nonfungiblePositionManager\n",
    "        .connect(account)\n",
    "        .createAndInitializePoolIfNecessary(\n",
    "            contracts.TOKEN_0,\n",
    "            contracts.TOKEN_1,\n",
    "            tradingfee,\n",
    "            price,\n",
    "            {\n",
    "                gasLimit: 15000000,\n",
    "            }\n",
    "        );\n",
    "    await response.wait();\n",
    "\n",
    "    POOL = await factory.getPool(contracts.TOKEN_0, contracts.TOKEN_1, tradingfee);\n",
    "    contracts = { ...contracts, POOL: POOL };\n",
    "    console.log(contracts);\n",
    "\n",
    "});\n"
   ]
  }
 ],
 "metadata": {
  "kernelspec": {
   "display_name": "JavaScript (Node.js)",
   "language": "javascript",
   "name": "javascript"
  },
  "language_info": {
   "file_extension": ".js",
   "mimetype": "application/javascript",
   "name": "javascript",
   "version": "20.2.0"
  },
  "orig_nbformat": 4
 },
 "nbformat": 4,
 "nbformat_minor": 2
}
