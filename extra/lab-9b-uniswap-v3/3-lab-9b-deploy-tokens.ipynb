{
 "cells": [
  {
   "attachments": {},
   "cell_type": "markdown",
   "metadata": {},
   "source": [
    "# Lab 9 - DEFI(Uniswap V3)"
   ]
  },
  {
   "attachments": {},
   "cell_type": "markdown",
   "metadata": {},
   "source": [
    "## 3. Deploy Test Tokens"
   ]
  },
  {
   "cell_type": "code",
   "execution_count": null,
   "metadata": {},
   "outputs": [],
   "source": [
    "artifacts = {\n",
    "    WETH9: require(\"./build/WETH9.json\"),\n",
    "    UniswapV3Factory: require(\"./build/UniswapV3Factory.json\"),\n",
    "    UniswapV3Pool: require(\"./build/UniswapV3Pool.json\"),\n",
    "    NFTDescriptor: require(\"./build/NFTDescriptor.json\"),\n",
    "    NonfungibleTokenPositionDescriptor: require(\"./build/NonfungibleTokenPositionDescriptor.json\"),\n",
    "    NonfungiblePositionManager: require(\"./build/NonfungiblePositionManager.json\"),\n",
    "    ERC20: require(\"./artifacts/contracts/TutorialERC20.sol/TutorialERC20.json\"),\n",
    "};"
   ]
  },
  {
   "cell_type": "code",
   "execution_count": null,
   "metadata": {},
   "outputs": [],
   "source": [
    "contracts = {\n",
    "  WETH: '0x78E6935fD0D9b57B1Bc20204BA769bCEd249012E',\n",
    "  UNISWAPV3_FACTORY: '0xfF2868E36dEfdD0180DFaFd4c234B9c2588a1887',\n",
    "  NONFUNGIBLE_POSITION_MANAGER: '0xFB04DA8DCc30fbD00FD953ADE7414953Ccc96145'\n",
    "};\n"
   ]
  },
  {
   "cell_type": "code",
   "execution_count": null,
   "metadata": {},
   "outputs": [],
   "source": [
    "new  Promise(async(res,rej)=>{\n",
    "    const {ethers}=require('ethers')\n",
    "    const provider = new ethers.providers.JsonRpcProvider(\"http://localhost:8545\");\n",
    "    const account = provider.getSigner();\n",
    "    const owner = await account.getAddress();\n",
    "    const json = require('./artifacts/contracts/TutorialERC20.sol/TutorialERC20.json');\n",
    "    const ERC20 = new ethers.ContractFactory(json.abi,json.bytecode,account);\n",
    "\n",
    "    tokenA = await ERC20.deploy(\"TutA\", \"TutA\", owner);\n",
    "    await tokenA.mint(\n",
    "        owner,\n",
    "        ethers.utils.parseEther(\"10000\")\n",
    "    );\n",
    "\n",
    "    tokenB = await ERC20.deploy(\"TutB\", \"TutB\", owner);\n",
    "    await tokenB.mint(\n",
    "        owner,\n",
    "        ethers.utils.parseEther(\"10000\")\n",
    "    );\n",
    "\n",
    "    [TOKEN_0,TOKEN_1] = tokenA.address < tokenB.address ? [tokenA.address,tokenB.address] : [tokenB.address,tokenA.address];\n",
    "\n",
    "    contracts = {...contracts,TOKEN_0,TOKEN_1}\n",
    "    console.log(contracts);\n",
    "\n",
    "})"
   ]
  },
  {
   "attachments": {},
   "cell_type": "markdown",
   "metadata": {},
   "source": [
    "---"
   ]
  },
  {
   "attachments": {},
   "cell_type": "markdown",
   "metadata": {},
   "source": [
    "## 3. Important Addresses"
   ]
  },
  {
   "cell_type": "code",
   "execution_count": null,
   "metadata": {},
   "outputs": [],
   "source": [
    "contracts = {\n",
    "    WETH: weth.address,\n",
    "    UNISWAPV3_FACTORY: factory.address,\n",
    "    NONFUNGIBLE_POSITION_MANAGER: nonfungiblePositionManager.address,\n",
    "    TOKEN_0: TOKEN_0,\n",
    "    TOKEN_1: TOKEN_1\n",
    "};\n",
    "console.log(contracts)"
   ]
  },
  {
   "attachments": {},
   "cell_type": "markdown",
   "metadata": {},
   "source": []
  }
 ],
 "metadata": {
  "kernelspec": {
   "display_name": "JavaScript (Node.js)",
   "language": "javascript",
   "name": "javascript"
  },
  "language_info": {
   "file_extension": ".js",
   "mimetype": "application/javascript",
   "name": "javascript",
   "version": "20.2.0"
  },
  "orig_nbformat": 4
 },
 "nbformat": 4,
 "nbformat_minor": 2
}
