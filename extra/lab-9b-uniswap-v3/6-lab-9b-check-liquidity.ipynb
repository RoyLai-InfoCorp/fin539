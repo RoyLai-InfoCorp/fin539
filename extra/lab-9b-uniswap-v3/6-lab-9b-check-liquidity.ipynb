{
 "cells": [
  {
   "attachments": {},
   "cell_type": "markdown",
   "metadata": {},
   "source": [
    "# Lab 9 - DEFI(Uniswap V3)"
   ]
  },
  {
   "attachments": {},
   "cell_type": "markdown",
   "metadata": {},
   "source": [
    "## 6. Add Liquidity"
   ]
  },
  {
   "cell_type": "code",
   "execution_count": null,
   "metadata": {},
   "outputs": [],
   "source": [
    "artifacts = {\n",
    "    WETH9: require(\"./build/WETH9.json\"),\n",
    "    UniswapV3Factory: require(\"./build/UniswapV3Factory.json\"),\n",
    "    UniswapV3Pool: require('./build/UniswapV3Pool.json'),\n",
    "    NFTDescriptor: require(\"./build/NFTDescriptor.json\"),\n",
    "    NonfungibleTokenPositionDescriptor: require(\"./build/NonfungibleTokenPositionDescriptor.json\"),\n",
    "    NonfungiblePositionManager: require(\"./build/NonfungiblePositionManager.json\"),\n",
    "    ERC20: require(\"./artifacts/contracts/TutorialERC20.sol/TutorialERC20.json\")\n",
    "};"
   ]
  },
  {
   "cell_type": "code",
   "execution_count": null,
   "metadata": {},
   "outputs": [],
   "source": [
    "contracts = {\n",
    "    WETH: \"0x78E6935fD0D9b57B1Bc20204BA769bCEd249012E\",\n",
    "    UNISWAPV3_FACTORY: \"0xfF2868E36dEfdD0180DFaFd4c234B9c2588a1887\",\n",
    "    NONFUNGIBLE_POSITION_MANAGER: \"0xFB04DA8DCc30fbD00FD953ADE7414953Ccc96145\",\n",
    "    TOKEN_0: \"0x3cE05DC47cCBd7c62E6dC6f1d6a08493B18B7992\",\n",
    "    TOKEN_1: \"0xff64fbE6824cC5CA450FD4Ca22c249a6d375028f\",\n",
    "    POOL: \"0x9fE073f12AD63A8bb14B5a40F452C45Aa1a7426D\",\n",
    "};\n"
   ]
  },
  {
   "cell_type": "code",
   "execution_count": null,
   "metadata": {},
   "outputs": [],
   "source": [
    "new Promise(async (res,rej)=>{\n",
    "\n",
    "    const {Contract, ethers} = require('ethers');\n",
    "    const provider = new ethers.providers.JsonRpcProvider(\"http://localhost:8545\");\n",
    "    const account = provider.getSigner();\n",
    "\n",
    "    // Configure Pool\n",
    "    poolContract = new Contract(\n",
    "        contracts.POOL,\n",
    "        artifacts.UniswapV3Pool.abi, \n",
    "        provider);\n",
    "\n",
    "    const [tickSpacing, fee, liquidity, slot0] = await Promise.all([\n",
    "        poolContract.tickSpacing(),\n",
    "        poolContract.fee(),\n",
    "        poolContract.liquidity(),\n",
    "        poolContract.slot0(),\n",
    "    ]);\n",
    "    sqrtPriceX96 = slot0[0];\n",
    "    tick = slot0[1];\n",
    "\n",
    "    // Show Pool Liquidity\n",
    "    poolData = {\n",
    "        tickSpacing: tickSpacing,\n",
    "        fee: fee,\n",
    "        liquidity: liquidity.toString(),\n",
    "        sqrtPriceX96: slot0[0].toString(),\n",
    "        tick: slot0[1],\n",
    "    };\n",
    "\n",
    "    // Show the price in decimal\n",
    "    const sqrtPriceDecimal = parseInt(sqrtPriceX96) / 2 ** 96;\n",
    "    console.log(`Price of Pool Token= ${sqrtPriceDecimal}`); \n",
    "\n",
    "    // Show Pool Reserves\n",
    "    const token0 = new Contract(\n",
    "        contracts.TOKEN_0,\n",
    "        artifacts.ERC20.abi,\n",
    "        account\n",
    "    );\n",
    "    const reserve0 = await token0.balanceOf(contracts.POOL);\n",
    "    console.log(`reserve0 = ${reserve0}`)\n",
    "\n",
    "    const token1 = new Contract(\n",
    "        contracts.TOKEN_1,\n",
    "        artifacts.ERC20.abi,\n",
    "        account\n",
    "    );\n",
    "    const reserve1 = await token1.balanceOf(contracts.POOL);\n",
    "    console.log(`reserve1 = ${reserve1}`)\n",
    "    \n",
    "})"
   ]
  },
  {
   "attachments": {},
   "cell_type": "markdown",
   "metadata": {},
   "source": [
    "The result shows that:\n",
    "* The fee is 500 basis point which is 0.5%\n",
    "* liquidity `1000000000000000985` refers to the liquidity token ID."
   ]
  }
 ],
 "metadata": {
  "kernelspec": {
   "display_name": "JavaScript (Node.js)",
   "language": "javascript",
   "name": "javascript"
  },
  "language_info": {
   "file_extension": ".js",
   "mimetype": "application/javascript",
   "name": "javascript",
   "version": "20.2.0"
  },
  "orig_nbformat": 4
 },
 "nbformat": 4,
 "nbformat_minor": 2
}
