{
 "cells": [
  {
   "attachments": {},
   "cell_type": "markdown",
   "metadata": {},
   "source": [
    "# Lab 9 - DEFI(Uniswap V2)"
   ]
  },
  {
   "attachments": {},
   "cell_type": "markdown",
   "metadata": {},
   "source": [
    "## 1. Start Hardhat Node\n",
    "\n",
    "### Step 1. Open a terminal\n",
    "\n",
    "### Step 2. Run Hardhat Node in lab-9\n",
    "\n",
    "```sh\n",
    "hh node\n",
    "```"
   ]
  },
  {
   "attachments": {},
   "cell_type": "markdown",
   "metadata": {},
   "source": [
    "## 2. Deploy Contracts Locally"
   ]
  },
  {
   "cell_type": "code",
   "execution_count": null,
   "metadata": {},
   "outputs": [],
   "source": [
    "const { ethers } = require(\"hardhat\");\n",
    "\n",
    "new Promise(async (res, rej) => {\n",
    "    \n",
    "    account = await ethers.getSigner();\n",
    "\n",
    "    // Deploy uniswap contracts\n",
    "    const Factory = await ethers.getContractFactory(\"UniswapV2Factory\");\n",
    "    factory = await Factory.deploy(account.address);\n",
    "\n",
    "    const Weth = await ethers.getContractFactory(\"WETH9\");\n",
    "    weth = await Weth.deploy();\n",
    "\n",
    "    const UniswapV2Router = await ethers.getContractFactory(\n",
    "        \"UniswapV2Router02\"\n",
    "    );\n",
    "    router = await UniswapV2Router.deploy(factory.address, weth.address);\n",
    "\n",
    "    // Deploy TokenA and TokenB\n",
    "    const ERC20 = await ethers.getContractFactory(\n",
    "        \"./contracts/v2-periphery/test/ERC20.sol:ERC20\"\n",
    "    );\n",
    "    tokenA = await ERC20.deploy(ethers.utils.parseEther(\"2\"));\n",
    "    tokenB = await ERC20.deploy(ethers.utils.parseEther(\"2\"));\n",
    "\n",
    "    contracts = {\n",
    "        WETH: weth.address,\n",
    "        UNISWAPV2_FACTORY: factory.address,\n",
    "        UNISWAPV2_ROUTER: router.address,\n",
    "        TOKEN_A: tokenA.address,\n",
    "        TOKEN_B: tokenB.address,\n",
    "    };\n",
    "    console.log(contracts);\n",
    "});\n"
   ]
  },
  {
   "attachments": {},
   "cell_type": "markdown",
   "metadata": {},
   "source": [
    "## 3. Load Contracts"
   ]
  },
  {
   "cell_type": "code",
   "execution_count": null,
   "metadata": {},
   "outputs": [],
   "source": [
    "new Promise(async (res,rej)=>{\n",
    "\n",
    "    account = await ethers.getSigner();\n",
    "\n",
    "    tokenA = await ethers.getContractAt(\n",
    "        \"./contracts/v2-periphery/test/ERC20.sol:ERC20\",\n",
    "        contracts.TOKEN_A\n",
    "    );\n",
    "    \n",
    "    tokenB = await ethers.getContractAt(\n",
    "        \"./contracts/v2-periphery/test/ERC20.sol:ERC20\",\n",
    "        contracts.TOKEN_B\n",
    "    );\n",
    "\n",
    "    factory = await ethers.getContractAt(\n",
    "        \"UniswapV2Factory\",\n",
    "        contracts.UNISWAPV2_FACTORY\n",
    "    );\n",
    "\n",
    "\n",
    "    router = await ethers.getContractAt(\n",
    "        \"UniswapV2Router02\",\n",
    "        contracts.UNISWAPV2_ROUTER\n",
    "    );    \n",
    "\n",
    "})\n"
   ]
  },
  {
   "attachments": {},
   "cell_type": "markdown",
   "metadata": {},
   "source": [
    "## 3. Add Liquidity\n",
    "\n",
    "We can leave the minimum amount as zero since the pool does not exist.\n",
    "Set the timestamp deadline to 1 minute from current block timestamp since we are only running on the Development Network."
   ]
  },
  {
   "cell_type": "code",
   "execution_count": null,
   "metadata": {},
   "outputs": [],
   "source": [
    "new Promise(async(res,rej)=>{\n",
    "    await tokenA.approve(contracts.UNISWAPV2_ROUTER, 10_000);\n",
    "    await tokenB.approve(contracts.UNISWAPV2_ROUTER, 10_000);\n",
    "    \n",
    "    const ts = (await ethers.provider.getBlock()).timestamp + 1000;\n",
    "    const response = await router.addLiquidity(\n",
    "        contracts.TOKEN_A,\n",
    "        contracts.TOKEN_B,\n",
    "        10_000,\n",
    "        10_000,\n",
    "        0,\n",
    "        0,\n",
    "        account.address,\n",
    "        ts\n",
    "    );\n",
    "\n",
    "})\n",
    "\n"
   ]
  },
  {
   "attachments": {},
   "cell_type": "markdown",
   "metadata": {},
   "source": [
    "## 4. Check Pool\n",
    "\n",
    "The Uniswap Router will call the Uniswap Factory to create the pool and call the PairCreated event. We can check the factory's event log to get the pool address. This address can be used to create a Pool contract instance to query the reserves."
   ]
  },
  {
   "cell_type": "code",
   "execution_count": null,
   "metadata": {},
   "outputs": [],
   "source": [
    "new Promise(async (res,rej)=>{\n",
    "    const logs = await factory.queryFilter(\n",
    "        factory.filters.PairCreated(null)\n",
    "    );\n",
    "    poolAddr = logs[0].args.pair;\n",
    "    console.log(poolAddr);\n",
    "})\n"
   ]
  },
  {
   "attachments": {},
   "cell_type": "markdown",
   "metadata": {},
   "source": [
    "## 5. Create the getReserves() Function\n",
    "\n",
    "Knowing the reserve balance in the pool is a key function in using Uniswap. It is used to confirm that the reserve is indeed in the pool after funding. It is also used to derive the prices for the next lab in making trade decisions. Getting the reserve balance is a 2 step process: find the pool address from the factory, and get the reserve from the pool."
   ]
  },
  {
   "cell_type": "code",
   "execution_count": null,
   "metadata": {},
   "outputs": [],
   "source": [
    "const getReserves = async (tokenA, tokenB) => {\n",
    "   const poolAddr = await factory.getPair(tokenA.address, tokenB.address);\n",
    "   const pool = await ethers.getContractAt(\"UniswapV2Pair\", poolAddr);\n",
    "   const { _reserve0, _reserve1 } = await pool.getReserves();\n",
    "       return tokenA.address < tokenB.address\n",
    "        ? { reserveA: _reserve0, reserveB: _reserve1 }\n",
    "        : { reserveA: _reserve1, reserveB: _reserve0 };\n",
    "}"
   ]
  },
  {
   "cell_type": "code",
   "execution_count": null,
   "metadata": {},
   "outputs": [],
   "source": [
    "new Promise(async (res,rej)=>{\n",
    "    const reserves = await getReserves(tokenA, tokenB);\n",
    "    console.log(reserves);\n",
    "})\n"
   ]
  },
  {
   "attachments": {},
   "cell_type": "markdown",
   "metadata": {},
   "source": [
    "## 6. Create Token Swap\n",
    "\n",
    "In the previous lab, we have created a reserve of 10000 tokenA and tokenB by the liquidity provider. In this lab, we will simulate a trader using accounts[1] to trade 2000 units of TokenA for TokenB. We will use the reserve balanaces to compute the amount of TokenB we can receive from this trade, ie. its execution price.\n"
   ]
  },
  {
   "attachments": {},
   "cell_type": "markdown",
   "metadata": {},
   "source": [
    "### Step 1. Create getAmountOut() function\n",
    "\n",
    "This function is used to compute the expected amount of token output (TokenB) when given an exact amount of token input (TokenA).\n",
    "\n",
    "**a)  Refer to the `GetAmountOut()` Solidity function in `v2-periphery/UniswapV2Library.sol`**\n",
    "\n",
    "This corresponds to the sell formula for computing $\\Delta{y}$ as explained in Lesson 9.\n",
    "\n",
    "<center>\n",
    "\n",
    "$\\Delta{y} = \\frac{yr\\Delta{x}}{x + r\\Delta{x}}$\n",
    "\n",
    "</center>\n",
    "\n",
    "\n",
    "**b)  Convert the logic to Javascript**"
   ]
  },
  {
   "cell_type": "code",
   "execution_count": null,
   "metadata": {},
   "outputs": [],
   "source": [
    "const { BigNumber } = require(\"ethers\");\n",
    "const getAmountOut = (amountIn, reserveIn, reserveOut) => {\n",
    "    amountIn = BigNumber.from(amountIn);\n",
    "    const amountInWithFee = amountIn.mul(997);\n",
    "    const numerator = amountInWithFee.mul(reserveOut);\n",
    "    const denominator = reserveIn.mul(1000).add(amountInWithFee);\n",
    "    amountOut = numerator / denominator;\n",
    "    return BigNumber.from(Math.floor(amountOut).toString());\n",
    "};\n"
   ]
  },
  {
   "attachments": {},
   "cell_type": "markdown",
   "metadata": {},
   "source": [
    "### Step 2. Create Mock Trader"
   ]
  },
  {
   "attachments": {},
   "cell_type": "markdown",
   "metadata": {},
   "source": [
    "Create a mock trader using accounts[1] and transfer some tokenA and tokenB to its account."
   ]
  },
  {
   "cell_type": "code",
   "execution_count": null,
   "metadata": {},
   "outputs": [],
   "source": [
    "new Promise(async(res,rej)=>{\n",
    "    trader = await ethers.getSigner(1);\n",
    "    await tokenA.transfer(trader.address, ethers.utils.parseEther(\"1\"));\n",
    "    await tokenB.transfer(trader.address, ethers.utils.parseEther(\"1\"));\n",
    "})"
   ]
  },
  {
   "attachments": {},
   "cell_type": "markdown",
   "metadata": {},
   "source": [
    "### Step 3. Check Trader Balance Before Swap"
   ]
  },
  {
   "cell_type": "code",
   "execution_count": null,
   "metadata": {},
   "outputs": [],
   "source": [
    "new Promise(async(res,rej)=>{\n",
    "    console.log(`Trader: tokenA before=`, await tokenA.balanceOf(trader.address));\n",
    "    console.log(`Trader: tokenB before=`, await tokenB.balanceOf(trader.address));\n",
    "})\n"
   ]
  },
  {
   "attachments": {},
   "cell_type": "markdown",
   "metadata": {},
   "source": [
    "### Step 4. Calculate the Swap Amount\n",
    "\n",
    "We want to pay 2000 tokenA for tokenB.\n",
    "\n",
    "We can use the getAmountOut function to find the amount of TokenB to receive. However, in actual trading scenario the price will fluctuate due to slippage. So we will call the getAmountOut function to compute the minimum tokenB amount expected and set 95% of this amount as the tolerance. If the slippage cause the TokenB received to be less than 95% then the trade will be rejected."
   ]
  },
  {
   "cell_type": "code",
   "execution_count": null,
   "metadata": {},
   "outputs": [],
   "source": [
    "new Promise(async(res,rej)=>{\n",
    "    reservesBefore = await getReserves(tokenA, tokenB);\n",
    "    console.log(\"Pool: reserves before=\", reservesBefore);\n",
    "    \n",
    "    amtA = 2000;\n",
    "    amtB = getAmountOut(amtA, reservesBefore.reserveA, reservesBefore.reserveB);\n",
    "    minAmtB = Math.floor(0.95 * amtB);\n",
    "\n",
    "    console.log(`Amount In: ${amtA} TokenA`);\n",
    "    console.log(`Amount Out: ${amtB} TokenB`);\n",
    "    console.log(`Min. Amount Out: ${minAmtB} TokenB`);\n",
    "})\n",
    "\n"
   ]
  },
  {
   "attachments": {},
   "cell_type": "markdown",
   "metadata": {},
   "source": [
    "### Step 5. Execute the trade\n",
    "\n",
    "The trader must approve Uniswap Router to withdraw 2000 TokenA from his account for the trade before executing the trade.\n",
    "\n",
    "We will execute the trade using the Uniswap Router contracts **swapExactTokensForTokens()** function.\n",
    "\n",
    "The `path` parameter of the function expects an array. The first element of the array is the token address to send (TokenA) and the second element of the array is the token address to receive (TokenB)."
   ]
  },
  {
   "cell_type": "code",
   "execution_count": null,
   "metadata": {},
   "outputs": [],
   "source": [
    "new Promise(async(res,rej)=>{\n",
    "    // Approve router to withdraw 2000 TokenA from trader account\n",
    "    await tokenA.connect(trader).approve(router.address, amtA);\n",
    "\n",
    "    // Trade 2000 TokenA for 1662 TokenB using trader account.\n",
    "    // Cancel the trade if TokenB amount is less than 1578\n",
    "    const ts = (await ethers.provider.getBlock()).timestamp + 1000;\n",
    "    await router\n",
    "        .connect(trader)\n",
    "        .swapExactTokensForTokens(\n",
    "            amtA,\n",
    "            minAmtB,\n",
    "            [tokenA.address, tokenB.address],\n",
    "            trader.address,\n",
    "            ts\n",
    "        );\n",
    "})"
   ]
  },
  {
   "attachments": {},
   "cell_type": "markdown",
   "metadata": {},
   "source": [
    "### Step 6. Check Balance After Swap"
   ]
  },
  {
   "cell_type": "code",
   "execution_count": null,
   "metadata": {},
   "outputs": [],
   "source": [
    "new Promise(async(res,rej)=>{\n",
    "    // Check Balance After\n",
    "    console.log(`Trader: tokenA after=`, await tokenA.balanceOf(trader.address));\n",
    "    console.log(`Trader: tokenB after=`, await tokenB.balanceOf(trader.address));\n",
    "    \n",
    "    // Check reserves after\n",
    "    const reservesAfter = await getReserves(tokenA, tokenB);\n",
    "    console.log(\"Pool: reserves after=\", reservesAfter);\n",
    "\n",
    "})\n",
    "\n"
   ]
  },
  {
   "attachments": {},
   "cell_type": "markdown",
   "metadata": {},
   "source": [
    "The output should show:\n",
    "\n",
    "   ```sh\n",
    "   Trader: tokenA before=1000000000000000000\n",
    "   Trader: tokenB before=1000000000000000000\n",
    "   Pool: reserves before = { reserveA: 10000, reserveB: 10000}\n",
    "   Trader: tokenA after=999999999999998000\n",
    "   Trader: tokenB after=1000000000000001662\n",
    "   Pool: reserves after = { reserveA: 12000, reserveB: 8338}\n",
    "   ```\n",
    "\n",
    "- The trader starts off with 1 ETH of TokenA and TokenB and the resulting balance after paying 2000 TokenA and receiving 1662 TokenB.\n",
    "\n",
    "- The Pool's reserves shows that it has increased TokenA reserve by 2000 and reduced TokenB's reserved by 1662.\n"
   ]
  },
  {
   "attachments": {},
   "cell_type": "markdown",
   "metadata": {},
   "source": [
    "## 7. Remove Liquidity\n",
    "\n",
    "In this lab, we will analyse the effect of cashing out the Liquidity Tokens.\n",
    "\n",
    "### Step 1. Check Liquidity Token Balance\n",
    "\n",
    "Get the current Liquidity Token balance for the Liquidity Provider."
   ]
  },
  {
   "cell_type": "code",
   "execution_count": null,
   "metadata": {},
   "outputs": [],
   "source": [
    "new Promise(async(res,rej)=>{\n",
    "    const poolAddr = await factory.getPair(tokenA.address, tokenB.address);\n",
    "    const pool = await ethers.getContractAt(\"UniswapV2Pair\", poolAddr);\n",
    "\n",
    "    // Check LP's liquidity token balance\n",
    "    const lpBefore = await pool.balanceOf(account.address);\n",
    "    console.log(\"LP: liquidity before=\", lpBefore);\n",
    "    const lpTokenABefore = await tokenA.balanceOf(account.address);\n",
    "    console.log(\"LP: tokenA before=\", lpTokenABefore);\n",
    "    const lpTokenBBefore = await tokenB.balanceOf(account.address);\n",
    "    console.log(\"LP: tokenB before=\", lpTokenBBefore);\n",
    "    const reservesBefore = await getReserves(tokenA, tokenB);\n",
    "    console.log(\"Pool: reserves before=\", reservesBefore);\n",
    "\n",
    "})"
   ]
  },
  {
   "attachments": {},
   "cell_type": "markdown",
   "metadata": {},
   "source": [
    "### Step 2. Cash out"
   ]
  },
  {
   "cell_type": "code",
   "execution_count": null,
   "metadata": {},
   "outputs": [],
   "source": [
    "new Promise(async (res,rej)=>{\n",
    "    const poolAddr = await factory.getPair(tokenA.address, tokenB.address);\n",
    "    const pool = await ethers.getContractAt(\"UniswapV2Pair\", poolAddr);\n",
    "    const lpBefore = await pool.balanceOf(account.address);\n",
    "    \n",
    "    // Approve router to withdraw all LP tokens\n",
    "    await pool.approve(router.address, lpBefore);\n",
    "    \n",
    "    // Remove Liquidity. Liquidate all LP's liquidity tokens\n",
    "    const ts = (await ethers.provider.getBlock()).timestamp + 1000;\n",
    "\n",
    "    await router.removeLiquidity(\n",
    "        tokenA.address,\n",
    "        tokenB.address,\n",
    "        lpBefore,\n",
    "        0,\n",
    "        0,\n",
    "        account.address,\n",
    "        ts\n",
    "    );\n",
    "\n",
    "})\n"
   ]
  },
  {
   "attachments": {},
   "cell_type": "markdown",
   "metadata": {},
   "source": [
    "### Step 3. Check Liquidity Token Balance Final"
   ]
  },
  {
   "cell_type": "code",
   "execution_count": null,
   "metadata": {},
   "outputs": [],
   "source": [
    "new Promise(async (res,rej)=>{\n",
    "\n",
    "    const poolAddr = await factory.getPair(tokenA.address, tokenB.address);\n",
    "    const pool = await ethers.getContractAt(\"UniswapV2Pair\", poolAddr);\n",
    "\n",
    "\n",
    "    console.log(\"AFTER--------\");\n",
    "    const lpAfter = await pool.balanceOf(account.address);\n",
    "    console.log(\"LP: liquidity After=\", lpAfter);\n",
    "    const lpTokenAAfter = await tokenA.balanceOf(account.address);\n",
    "    console.log(\"LP: tokenA After=\", lpTokenAAfter);\n",
    "    const lpTokenBAfter = await tokenB.balanceOf(account.address);\n",
    "    console.log(\"LP: tokenB After=\", lpTokenBAfter);\n",
    "    const reservesAfter = await getReserves(tokenA, tokenB);\n",
    "    console.log(\"Pool: reserves After=\", reservesAfter);\n",
    "\n",
    "})\n",
    "\n"
   ]
  },
  {
   "attachments": {},
   "cell_type": "markdown",
   "metadata": {},
   "source": [
    "The output shows:\n",
    "\n",
    "```sh\n",
    "LP: tokenA Balance=1000000000000000800\n",
    "LP: tokenB Balance=999999999999997504\n",
    "LP: Liquidity Balance=0\n",
    "Pool: reserveA = 1200\n",
    "Pool: reserveB = 834\n",
    "Pool: midPrice of TokenA = 0.695 TokenB\n",
    "Pool: midPrice of TokenB = 1.4388489208633093 TokenA\n",
    "```\n",
    "\n",
    "* Before liquidation, the pool has reserveA = 12000 and reserveB = 8338\n",
    "\n",
    "*  After liquidation, the pool is left with = 1200 and reserveB = 834\n",
    "\n",
    "This is because the pool was originally funded with 10_000 but 1000 is permanently locked. That means the liquidity provider's share of the pool is only 90%. Liquidating 9000 liquidity tokens means the pool is left with 10% of both tokens."
   ]
  },
  {
   "attachments": {},
   "cell_type": "markdown",
   "metadata": {},
   "source": [
    "## OPTIONAL - Trace the transactions\n",
    "\n",
    "So far, we know how to use the contract to create a liquidity pool and receive the Liquidity Token. But we still don't know how the contract works. To look inside the contract, we can run a trace.\n",
    "\n",
    "1. Install hardhat-tracer plugin\n",
    "\n",
    "```js\n",
    "npm i -D hardhat-tracer@1.1.0-rc.6\n",
    "```\n",
    "\n",
    "2. Run the trace\n",
    "\n",
    "```js\n",
    "hh test test/test1-add-liquidity --trace\n",
    "```\n",
    "\n",
    "![add-liquidity-trace](img/add-liquidity-trace.png)\n",
    "\n",
    "3. Analyse the trace under the **UniswapV2Router02.addLiquidity()** section\n",
    "\n",
    "-   **EVENT UniswapV2Factory.PairCreated** shows that a pool has been created where token0 = TokenB address, token1 = TokenA address.\n",
    "-   The 2 **EVENT ERC20.Transfer** events after that shows that 10,000 tokens has been transferred into the pool `0x82404cCfc1c17Ee7b6a8bEde74da9BBca9cE96Af`.\n",
    "-   The next 2 **EVENT ERC20.Transfer** events shows that 1,000 Liquidity Tokens are minted and sent to address(0) while the remaining 9,000 tokens are minted into the liquidity provider's address.\n",
    "-   The **EVENT UniswapV2Pair.Sync** event shows that the reserve balance has been updated to match the transfer amount.\n",
    "-   Finally, the **EVENT UniswapV2Pair.Mint** event reports the result of minted by UniswapV2Router02 (sender=0x5797b2170589F01573064F9683c035554d47ffd3)\n",
    "\n",
    "4. Analyse the trace under **UniswapV2Router02.swapExactTokensForTokens()**\n",
    "\n",
    "![uniswap-trade-trace](img/uniswap-trade-trace.png)\n",
    "\n",
    "-   The first **ERC20.Transfer()** event is a withdrawal of 2000 TokenA from trader's account into the pool.\n",
    "-   The router than call the **UniswapV2Pair.swap()** function which transfers 1662 TokenB from the pool's account to the trader.\n",
    "-   Finally, it updates the pool's reserve with TokenB=8338 and TokenA=12000.\n"
   ]
  }
 ],
 "metadata": {
  "kernelspec": {
   "display_name": "JavaScript (Node.js)",
   "language": "javascript",
   "name": "javascript"
  },
  "language_info": {
   "file_extension": ".js",
   "mimetype": "application/javascript",
   "name": "javascript",
   "version": "20.2.0"
  }
 },
 "nbformat": 4,
 "nbformat_minor": 2
}
