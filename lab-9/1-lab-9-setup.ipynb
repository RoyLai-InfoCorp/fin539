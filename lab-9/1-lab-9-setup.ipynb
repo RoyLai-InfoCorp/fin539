{
 "cells": [
  {
   "attachments": {},
   "cell_type": "markdown",
   "metadata": {},
   "source": [
    "# Lab 9 - DEFI(Uniswap V2)"
   ]
  },
  {
   "attachments": {},
   "cell_type": "markdown",
   "metadata": {},
   "source": [
    "## 1. Setup\n",
    "\n",
    "### Step 1: Init NPM project"
   ]
  },
  {
   "cell_type": "code",
   "execution_count": null,
   "metadata": {
    "scrolled": true,
    "vscode": {
     "languageId": "shellscript"
    }
   },
   "outputs": [],
   "source": [
    "mkdir test\n",
    "mkdir contracts\n",
    "mkdir build\n",
    "npm init -y"
   ]
  },
  {
   "attachments": {},
   "cell_type": "markdown",
   "metadata": {},
   "source": [
    "### Step 2. Install Hardhat Packages"
   ]
  },
  {
   "cell_type": "code",
   "execution_count": null,
   "metadata": {
    "vscode": {
     "languageId": "shellscript"
    }
   },
   "outputs": [],
   "source": [
    "npm i -D hardhat@2.15.0 @nomiclabs/hardhat-ethers@2.2.3 @nomiclabs/hardhat-etherscan@3.1.7 hardhat-ignore-warnings chai@4.3.7 @openzeppelin/contracts@3.4.2\n",
    "npm i dotenv@16.1.4 ethers@5.7.2\n"
   ]
  },
  {
   "attachments": {},
   "cell_type": "markdown",
   "metadata": {},
   "source": [
    "\n",
    "### Step 3. Install UniswapV2 Packages"
   ]
  },
  {
   "cell_type": "code",
   "execution_count": null,
   "metadata": {
    "vscode": {
     "languageId": "shellscript"
    }
   },
   "outputs": [],
   "source": [
    "npm i @uniswap/lib@4.0.1-alpha @uniswap/sdk@3.0.3 @uniswap/v2-core@1.0.1"
   ]
  },
  {
   "attachments": {},
   "cell_type": "markdown",
   "metadata": {},
   "source": [
    "### Step 4 - Download UniswapV2 contract source code\n",
    "\n",
    "a) Clone the uniswap repositories into `\\tmp\\v2-core` and `\\tmp\\v2-periphery`.\n",
    "b) Checkout the commits used for mainnet deployment\n",
    "c) Copy `\\tmp\\v2-core\\contracts` and `\\tmp\\v2-periphery\\contracts` directory into `/lab-9/contracts`."
   ]
  },
  {
   "cell_type": "code",
   "execution_count": null,
   "metadata": {
    "vscode": {
     "languageId": "shellscript"
    }
   },
   "outputs": [],
   "source": [
    "mkdir /tmp/uniswap\n",
    "bash -c \"git clone https://github.com/Uniswap/v2-periphery /tmp/uniswap/v2-periphery && cd /tmp/uniswap/v2-periphery && git checkout 69617118cda519dab608898d62aaa79877a61004\"\n",
    "cp -rp /tmp/uniswap/v2-periphery/contracts contracts/v2-periphery\n",
    "bash -c \"git clone https://github.com/Uniswap/v2-core /tmp/uniswap/v2-core && cd /tmp/uniswap/v2-core && git checkout 816075049f811f1b061bca81d5d040b96f4c07eb\"\n",
    "cp -rp /tmp/uniswap/v2-core/contracts contracts/v2-core"
   ]
  },
  {
   "attachments": {},
   "cell_type": "markdown",
   "metadata": {},
   "source": [
    "### Step 5. Create Hardhat Configuration\n",
    "\n",
    "* Create hardhat.config.js\n",
    "* Use compiler version 0.5.16 for compiling v2-core.\n",
    "* Use compiler version 0.6.6 for compiling v2-periphery. Optimizer must be enabled otherwise the Router bytecode will be too large to deploy.\n",
    "\n",
    "```js\n",
    "require(\"@nomiclabs/hardhat-ethers\");\n",
    "module.exports = {\n",
    "    solidity: {\n",
    "        compilers: [\n",
    "            {\n",
    "                version: \"0.5.16\",\n",
    "            },\n",
    "            {\n",
    "                version: \"0.6.6\",\n",
    "                settings: {\n",
    "                    optimizer: {\n",
    "                        enabled: true,\n",
    "                        runs: 200,\n",
    "                    },\n",
    "                },\n",
    "            },\n",
    "        ],\n",
    "    },\n",
    "};\n",
    "```"
   ]
  },
  {
   "attachments": {},
   "cell_type": "markdown",
   "metadata": {},
   "source": [
    "The completed project structure should look like the following:\n",
    "\n",
    "```\n",
    "/lab-9\n",
    "    /contracts\n",
    "        /v2-core\n",
    "            /interfaces\n",
    "            /libraries\n",
    "            UniswapV2ERC20.sol\n",
    "            UniswapV2Factory.sol\n",
    "            UniswapV2Pair.sol\n",
    "        /v2-periphery\n",
    "            /interfaces\n",
    "            /libraries\n",
    "            UniswapV2Router02.sol\n",
    "```\n"
   ]
  },
  {
   "attachments": {},
   "cell_type": "markdown",
   "metadata": {},
   "source": [
    "### Step 6. Compile\n",
    "\n",
    "This should compile the Uniswap contracts into the `artifacts` directory."
   ]
  },
  {
   "cell_type": "code",
   "execution_count": null,
   "metadata": {
    "vscode": {
     "languageId": "shellscript"
    }
   },
   "outputs": [],
   "source": [
    "hh compile"
   ]
  },
  {
   "attachments": {},
   "cell_type": "markdown",
   "metadata": {},
   "source": [
    "### Step 7. Generate init code hash for UniswapV2Pair\n",
    "\n",
    "The function **pairFor()** in the **UniswapV2Library** uses an offchain technique to get the pool contract's address by hardcoding the bytecode's hash into the contract. Because the bytecode can be different when compiled on your machine, from the one used in the contract, this function has to replace the hashcode using the instructions below.\n",
    "\n",
    "**a) Launch hardhat console.**\n",
    "\n",
    "```sh\n",
    "hh console\n",
    "```\n",
    "\n",
    "**b) Enter the following command from within Hardhat console**\n",
    "\n",
    "```\n",
    "> json = require(\"./artifacts/contracts/v2-core/UniswapV2Pair.sol/UniswapV2Pair.json\");\n",
    "> console.log(ethers.utils.keccak256(json.bytecode));\n",
    "```\n",
    "The output should show: `215a032792ab9f4a5eb14f1f4c1daed5017b1eee4de72ddb42e06c967b16c5d4`\n",
    "\n",
    "**c) Open the file `v2-periphery/libraries/UniswapV2Library.sol`.**\n",
    "\n",
    "**d) Replace line 24 of  with the hash.**\n",
    "\n",
    "```js\n",
    "function pairFor(address factory, address tokenA, address tokenB) internal pure returns (address pair) {\n",
    "    (address token0, address token1) = sortTokens(tokenA, tokenB);\n",
    "    pair = address(uint(keccak256(abi.encodePacked(\n",
    "            hex'ff',\n",
    "            factory,\n",
    "            keccak256(abi.encodePacked(token0, token1)),\n",
    "            hex'215a032792ab9f4a5eb14f1f4c1daed5017b1eee4de72ddb42e06c967b16c5d4'\n",
    "            //hex'96e8ac4277198ff8b6f785478aa9a39f403cb768dd02cbee326c3e7da348845f' // init code hash\n",
    "        ))));\n",
    "}\n",
    "```\n",
    "\n",
    "**e) Compile again.**"
   ]
  },
  {
   "attachments": {},
   "cell_type": "markdown",
   "metadata": {},
   "source": [
    "hh compile"
   ]
  }
 ],
 "metadata": {
  "kernelspec": {
   "display_name": "Bash",
   "language": "bash",
   "name": "bash"
  },
  "language_info": {
   "codemirror_mode": "shell",
   "file_extension": ".sh",
   "mimetype": "text/x-sh",
   "name": "bash"
  }
 },
 "nbformat": 4,
 "nbformat_minor": 2
}
