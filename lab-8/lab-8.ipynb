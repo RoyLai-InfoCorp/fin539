{
 "cells": [
  {
   "attachments": {},
   "cell_type": "markdown",
   "metadata": {},
   "source": [
    "# Lab 8 - Transactions and Gas\n",
    "\n",
    "## 1. Setup\n",
    "\n",
    "### Step 1: Copy content of lab-7 into lab-8"
   ]
  },
  {
   "cell_type": "code",
   "execution_count": null,
   "metadata": {
    "scrolled": true
   },
   "outputs": [],
   "source": [
    "cp -rp ~/github/suss/fin579/lab-7/. ~/github/suss/fin579/lab-8\n",
    "cd ~/github/suss/fin579/lab-8"
   ]
  },
  {
   "attachments": {},
   "cell_type": "markdown",
   "metadata": {},
   "source": [
    "\n",
    "## Lab 8a : Minimum Transaction Cost\n",
    "\n",
    "### Step 1. Start HH console\n",
    "\n",
    "```sh\n",
    "hh console\n",
    "```\n",
    "\n",
    "### Step 2. Send 1 wei to accounts[1].\n",
    "\n",
    "```js\n",
    "> response = await accounts[0].sendTransaction(\n",
    "    {\n",
    "        to: accounts[1].address,\n",
    "        value:1\n",
    "    }\n",
    ")\n",
    "> receipt = await response.wait();\n",
    "\n",
    "```\n",
    "\n",
    "### Step 3. Analyse the result\n",
    "\n",
    "* The transaction response indicates that the gasPrice was set at `1875000000`. This settings is configured in hardhat.config.js but can be overridden by passing an options object at the send of sendTraction().\n",
    "* Once the transaction is mined, it returns a receipt which contains the gasUsed - `21000`.\n",
    "\n",
    "```js\n",
    "> response\n",
    "{\n",
    "    hash: '0x5266cf8d88c1f8fd171b4a0eb1e8869344fa781a8b127c8a1060930e1f68fe08',\n",
    "    from: '0xf39Fd6e51aad88F6F4ce6aB8827279cffFb92266',\n",
    "    gasPrice: BigNumber { value: \"1875000000\" },\n",
    "    to: '0x70997970C51812dc3A010C7d01b50e0d17dc79C8',\n",
    "    value: BigNumber { value: \"1\" },\n",
    "    ...\n",
    "}\n",
    "> receipt\n",
    "{\n",
    "    gasUsed: BigNumber { value: \"21000\" },\n",
    "    ...\n",
    "}\n",
    "\n",
    "```\n"
   ]
  },
  {
   "attachments": {},
   "cell_type": "markdown",
   "metadata": {},
   "source": [
    "## Lab 8b : Transfer ETH with GasPrice\n",
    "\n",
    "This is an extension of the previous example on **Transfer ETH** by overriding the send transaction with an explicit gasPrice.\n",
    "\n",
    "Sends 1 wei from accounts[0] to accounts[1] with a gasPrice of 10 gwei.\n",
    "\n",
    "```js\n",
    "> response = await accounts[0].sendTransaction(\n",
    "    {\n",
    "        to: accounts[1].address,\n",
    "        value:1,\n",
    "        gasPrice: ethers.utils.parseUnits(\"10\",\"gwei\")\n",
    "    }\n",
    ")\n",
    "> response.gasPrice\n",
    "//BigNumber { value: \"10000000000\" }\n",
    "```"
   ]
  },
  {
   "attachments": {},
   "cell_type": "markdown",
   "metadata": {},
   "source": [
    "## Lab 8c: Estimate Cost of Deployment\n",
    "\n",
    "### Step 1.  Create `testGasCost.js`\n",
    "\n",
    "NOTE: After the installation of OpenZeppelin there will be a conflict in the contract name between the ERC20.sol in OpenZeppelin and the one in contracts directory. To resolve this, you will use a fully qualified contract name \"contracts/ERC20.sol:ERC20\".\n",
    "\n",
    "```js\n",
    "const { expect } = require(\"chai\");\n",
    "describe(\"Test Gas Cost\", () => {\n",
    "    let accounts, factory, name, symbol, totalSupply;\n",
    "\n",
    "    beforeEach(async () => {\n",
    "        accounts = await ethers.getSigners();\n",
    "        factory = await ethers.getContractFactory(\"contracts/ERC20.sol:ERC20\");\n",
    "        name = \"TUT\"; // <=== replace with your own token name\n",
    "        symbol = \"TUT\"; // <=== replace with your own token symbol\n",
    "        totalSupply = ethers.utils.parseUnits(\"1000\", \"ether\"); // <=== replace with your own supply\n",
    "    });\n",
    "\n",
    "    \n",
    "});\n",
    "```\n",
    "\n",
    "### Step 2. Test Contract Deployment Cost\n",
    "\n",
    "```js\n",
    "    it(\"Test Contract Deployment Cost\", async () => {\n",
    "        let deployed = await factory.getDeployTransaction(\n",
    "            name,\n",
    "            symbol,\n",
    "            totalSupply,\n",
    "            accounts[0].address\n",
    "        );\n",
    "        let gastimate = await ethers.provider.estimateGas(deployed.data);\n",
    "        console.log(`Contract Deployment Const: ${gastimate}`);\n",
    "    });\n",
    "```"
   ]
  },
  {
   "cell_type": "code",
   "execution_count": null,
   "metadata": {
    "scrolled": true
   },
   "outputs": [],
   "source": [
    "hh test test/testGasCost"
   ]
  },
  {
   "attachments": {},
   "cell_type": "markdown",
   "metadata": {},
   "source": [
    "### Step 2.  Test token transfer cost\n",
    "\n",
    "```js\n",
    "    it(\"Test token transfer cost\", async () => {\n",
    "        let contract = await factory.deploy(\n",
    "            name,\n",
    "            symbol,\n",
    "            totalSupply,\n",
    "            account.address\n",
    "        );\n",
    "        let transferCost = await contract.estimateGas.transfer(\n",
    "            accounts[1].address,\n",
    "            1\n",
    "        );\n",
    "        console.log(`Token transfer cost: ${transferCost}`);\n",
    "    });\n",
    "```"
   ]
  },
  {
   "cell_type": "code",
   "execution_count": null,
   "metadata": {},
   "outputs": [],
   "source": [
    "hh test test/testGasCost"
   ]
  },
  {
   "attachments": {},
   "cell_type": "markdown",
   "metadata": {},
   "source": [
    "## Lab 8d: Cost of Reading from Storage Data Location\n",
    "\n",
    "In this session, we will study the cost of accessing storage data location. This example is to illustrate the cost of reading from contract storage. When calling constant functions `view` and `pure` from ethers.js, there is no gas involved because the result is obtained from the local node and is not broadcasted onto the blockchain. However, if this contract is being called by another on-chain transaction, then the cost will be incurred for reading.\n",
    "\n",
    "### Step 1. Test cost of calling `decimals()`.\n",
    "\n",
    "```js\n",
    "    it(\"Test cost of calling decimal\", async () => {\n",
    "        let factory = await ethers.getContractFactory(\n",
    "            \"contracts/ERC20.sol:ERC20\"\n",
    "        );\n",
    "        let contract = await factory.deploy(\n",
    "            name,\n",
    "            symbol,\n",
    "            totalSupply,\n",
    "            accounts[0].address\n",
    "        );\n",
    "        let before = await ethers.provider.getBalance(accounts[0].address);\n",
    "\n",
    "        let pureCost = await contract.estimateGas.decimals();\n",
    "        console.log(`Cost of calling decimal: ${pureCost}`);\n",
    "\n",
    "        let after = await ethers.provider.getBalance(accounts[0].address);\n",
    "        console.log(\"actual deduction:\", before.sub(after));\n",
    "    });\n",
    "```\n",
    "\n",
    "You can see from the result below that the estimated cost of calling decimals is 21407 but this cost is only applicable when invoked by contracts. When called externally, the cost is actually zero as proven by the actual deduction of 0.\n"
   ]
  },
  {
   "cell_type": "code",
   "execution_count": null,
   "metadata": {
    "scrolled": true
   },
   "outputs": [],
   "source": [
    "hh test test/testGasCost"
   ]
  },
  {
   "attachments": {},
   "cell_type": "markdown",
   "metadata": {},
   "source": [
    "### Step 2. Test cost of calling `balanceOf()`.\n",
    "\n",
    "```js\n",
    "    it(\"Test cost of calling balanceOf\", async () => {\n",
    "        let factory = await ethers.getContractFactory(\n",
    "            \"contracts/ERC20.sol:ERC20\"\n",
    "        );\n",
    "        let contract = await factory.deploy(\n",
    "            name,\n",
    "            symbol,\n",
    "            totalSupply,\n",
    "            accounts[0].address\n",
    "        );\n",
    "        let before = await ethers.provider.getBalance(accounts[0].address);\n",
    "\n",
    "        let roCost = await contract.estimateGas.balanceOf(accounts[0].address);\n",
    "        console.log(`Cost of calling balanceOf: ${roCost}`);\n",
    "\n",
    "        let after = await ethers.provider.getBalance(accounts[0].address);\n",
    "        console.log(\"actual deduction:\", before.sub(after));\n",
    "    });\n",
    "```\n",
    "\n",
    "Here, we are testing the cost of reading. Similar to the above test, it cost 0 when called externally. However, since the function balanceOf() is not a `pure` function like decimals(). It costs slightly higher than decimals(). But still significantly cheaper than making a state changing call like transfer()."
   ]
  },
  {
   "cell_type": "code",
   "execution_count": null,
   "metadata": {
    "scrolled": true
   },
   "outputs": [],
   "source": [
    "hh test test/testGasCost"
   ]
  }
 ],
 "metadata": {
  "kernelspec": {
   "display_name": "Bash",
   "language": "bash",
   "name": "bash"
  },
  "language_info": {
   "codemirror_mode": "shell",
   "file_extension": ".sh",
   "mimetype": "text/x-sh",
   "name": "bash"
  }
 },
 "nbformat": 4,
 "nbformat_minor": 2
}
