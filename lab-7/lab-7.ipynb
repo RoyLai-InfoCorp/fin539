{
 "cells": [
  {
   "attachments": {},
   "cell_type": "markdown",
   "metadata": {},
   "source": [
    "# Lab 7- OpenZeppelin Smart Contract Library\n",
    "\n",
    "## 1. Setup\n",
    "\n",
    "### Step 1: Copy content of lab-5 into lab-6\n",
    "\n",
    "### Step 2. Install OpenZeppelin package"
   ]
  },
  {
   "cell_type": "code",
   "execution_count": null,
   "metadata": {},
   "outputs": [],
   "source": [
    "cp -rp ~/github/suss/fin579/lab-6/. ~/github/suss/fin579/lab-7\n",
    "cd ~/github/suss/fin579/lab-7\n",
    "npm i @openzeppelin/contracts@4.6.0"
   ]
  },
  {
   "attachments": {},
   "cell_type": "markdown",
   "metadata": {},
   "source": [
    "## Lab 7b - OpenZeppelin ERC20 contract\n",
    "\n",
    "### Step 1. Review OpenZeppelin ERC20\n",
    "\n",
    "a) From Visual Code, open the directory `node_modules/@openzeppelin/contracts/token/ERC20`. You will find a number of implementations of ERC20 in this directory. Open the file `ERC20.sol` and compare it what you have built earlier.\n",
    "\n",
    "### Step 2. Create `OpenZeppelinERC20.sol`\n",
    "\n",
    "```js\n",
    "import '@openzeppelin/contracts/token/ERC20/ERC20.sol';\n",
    "import '@openzeppelin/contracts/access/Ownable.sol';\n",
    "\n",
    "contract OpenZeppelinERC20 is ERC20, Ownable {\n",
    "    constructor(string memory name_, string memory symbol_, address owner_) ERC20(name_,symbol_) {\n",
    "\n",
    "    }\n",
    "    function mint(address account, uint256 amount)\n",
    "    onlyOwner()\n",
    "    public {\n",
    "        _mint(account,amount);\n",
    "    }\n",
    "}\n",
    "```\n",
    "\n",
    "### Step 3. Copy the test script `testTutorialERC20.js` from into the `testOpenZeppelinERC20.js`\n",
    "\n",
    "   Change the script to load the contract from `TutorialERC20` to `OpenZeppelinERC20`.\n",
    "\n",
    "```js\n",
    "describe(\"Test OpenZeppelinERC20\", () => {\n",
    "    let accounts;\n",
    "    let tut;\n",
    "\n",
    "    beforeEach(async () => {\n",
    "        accounts = await ethers.getSigners();\n",
    "        let factory = await ethers.getContractFactory(\"OpenZeppelinERC20\");\n",
    "        tut = await factory.deploy(\n",
    "            \"TUT2\",\n",
    "            \"OpenZeppelin ERC20 Token\",\n",
    "            accounts[0].address\n",
    "        );\n",
    "    });\n",
    "```\n",
    "\n",
    "### Step 4. Run the test"
   ]
  },
  {
   "cell_type": "code",
   "execution_count": null,
   "metadata": {},
   "outputs": [],
   "source": [
    "hh test test/testOpenZeppelinERC20"
   ]
  },
  {
   "cell_type": "code",
   "execution_count": null,
   "metadata": {},
   "outputs": [],
   "source": []
  }
 ],
 "metadata": {
  "kernelspec": {
   "display_name": "Bash",
   "language": "bash",
   "name": "bash"
  },
  "language_info": {
   "codemirror_mode": "shell",
   "file_extension": ".sh",
   "mimetype": "text/x-sh",
   "name": "bash"
  }
 },
 "nbformat": 4,
 "nbformat_minor": 2
}
